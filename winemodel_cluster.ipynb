{
 "cells": [
  {
   "cell_type": "markdown",
   "id": "e34a90d1-1f12-4b2a-8b9e-a79158a80e3b",
   "metadata": {},
   "source": [
    "# Wine quality prediction\n",
    "\n",
    "This notebook builds a model to predict the quality of wine using the model [sklearn.linear_model.ElasticNet](http://scikit-learn.org/stable/modules/generated/sklearn.linear_model.ElasticNet.html) and [dataset](http://archive.ics.uci.edu/ml/datasets/Wine+Quality).\n"
   ]
  },
  {
   "cell_type": "markdown",
   "id": "a99265cb-0a42-4e60-82c0-837ffe442020",
   "metadata": {},
   "source": [
    "## Train the best model\n",
    "Use the Ezmeral Training cluster configured with higher resource to train the model with big data on the selected hyperparameter (alpha=0.5, l1_ratio=0.5)."
   ]
  },
  {
   "cell_type": "code",
   "execution_count": null,
   "id": "c7a8919c-44cf-4285-8ab4-b54ae5da415f",
   "metadata": {},
   "outputs": [],
   "source": [
    "# Task: Run a magic to list the training clusters that are attached to the notebook server\n",
    "%"
   ]
  },
  {
   "cell_type": "code",
   "execution_count": null,
   "id": "0ed9c677-4f88-471c-a6d7-62076e58fa23",
   "metadata": {},
   "outputs": [],
   "source": [
    "%%capture history_url\n",
    "\n",
    "%% # Task: Run a magic to select the training cluster to submit the following code to the training cluster\n",
    "\n",
    "import os\n",
    "import warnings\n",
    "import sys\n",
    "\n",
    "import pandas as pd\n",
    "import numpy as np\n",
    "from sklearn.metrics import mean_squared_error, mean_absolute_error, r2_score\n",
    "from sklearn.model_selection import train_test_split\n",
    "from sklearn.linear_model import ElasticNet\n",
    "\n",
    "import mlflow\n",
    "    \n",
    "import mlflow.sklearn\n",
    "from mlflow import log_metric, log_param, log_artifact\n",
    "\n",
    "def train(in_alpha, in_l1_ratio, data_path=None):\n",
    "\n",
    "\n",
    "    def eval_metrics(actual, pred):\n",
    "        rmse = np.sqrt(mean_squared_error(actual, pred))\n",
    "        mae = mean_absolute_error(actual, pred)\n",
    "        r2 = r2_score(actual, pred)\n",
    "        return rmse, mae, r2\n",
    "\n",
    "\n",
    "    warnings.filterwarnings(\"ignore\")\n",
    "    np.random.seed(40)\n",
    "     \n",
    "    # Read from shared data volume (make sure to put the data in the Project Repository on ECP)\n",
    "    data_path = \"/bd-fs-mnt/project_repo/data/wine-quality.csv\"\n",
    "\n",
    "    data = pd.read_csv(data_path)\n",
    "    \n",
    "\n",
    "    # Split the data into training and test sets. (0.75, 0.25) split.\n",
    "    train, test = train_test_split(data)\n",
    "\n",
    "    # The predicted column is \"quality\" which is a scalar from [3, 9]\n",
    "    train_x = train.drop([\"quality\"], axis=1)\n",
    "    test_x = test.drop([\"quality\"], axis=1)\n",
    "    train_y = train[[\"quality\"]]\n",
    "    test_y = test[[\"quality\"]]\n",
    "\n",
    "    # Set default values if no alpha is provided\n",
    "    if float(in_alpha) is None:\n",
    "        alpha = 0.5\n",
    "    else:\n",
    "        alpha = float(in_alpha)\n",
    "\n",
    "    # Set default values if no l1_ratio is provided\n",
    "    if float(in_l1_ratio) is None:\n",
    "        l1_ratio = 0.5\n",
    "    else:\n",
    "        l1_ratio = float(in_l1_ratio)\n",
    "    \n",
    "    # Execute ElasticNet\n",
    "    lr = ElasticNet(alpha=alpha, l1_ratio=l1_ratio, random_state=42)\n",
    "    lr.fit(train_x, train_y)\n",
    "\n",
    "    # Evaluate Metrics\n",
    "    predicted_qualities = lr.predict(test_x)\n",
    "    (rmse, mae, r2) = eval_metrics(test_y, predicted_qualities)\n",
    "\n",
    "    # Print out metrics\n",
    "    print(\"Elasticnet model (alpha=%f, l1_ratio=%f):\" % (alpha, l1_ratio))\n",
    "    print(\"  RMSE: %s\" % rmse)\n",
    "    print(\"  MAE: %s\" % mae)\n",
    "    print(\"  R2: %s\" % r2)\n",
    "\n",
    "    # Log parameter, metrics, and model to MLflow\n",
    "    mlflow.set_experiment('winequality_experiment')\n",
    "    mlflow.log_param(\"alpha\", alpha)\n",
    "    mlflow.log_param(\"l1_ratio\", l1_ratio)\n",
    "    mlflow.log_metric(\"rmse\", rmse)\n",
    "    mlflow.log_metric(\"r2\", r2)\n",
    "    mlflow.log_metric(\"mae\", mae)\n",
    "\n",
    "    mlflow.sklearn.log_model(lr, \"model\")\n",
    "    \n",
    "    mlflow.end_run()\n",
    "    \n",
    "train(0.5, 0.5)\n"
   ]
  },
  {
   "cell_type": "code",
   "execution_count": null,
   "id": "24a4a3c6-3692-4281-9e32-f9c1ec4145f6",
   "metadata": {},
   "outputs": [],
   "source": [
    "import time\n",
    "\n",
    "historyurl = history_url.stdout.split(' ')[2]\n",
    "\n",
    "%logs --url $historyurl\n",
    "time.sleep(5) # wait here for the training to finish to see the final log\n",
    "%logs --url $historyurl\n",
    "# rerun this cell if you don't see \"Job Status\" updates"
   ]
  }
 ],
 "metadata": {
  "kernelspec": {
   "display_name": "Python 3",
   "language": "python",
   "name": "python3"
  },
  "language_info": {
   "codemirror_mode": {
    "name": "ipython",
    "version": 3
   },
   "file_extension": ".py",
   "mimetype": "text/x-python",
   "name": "python",
   "nbconvert_exporter": "python",
   "pygments_lexer": "ipython3",
   "version": "3.7.3"
  }
 },
 "nbformat": 4,
 "nbformat_minor": 5
}
