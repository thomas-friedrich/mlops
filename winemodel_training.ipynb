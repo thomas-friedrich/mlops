{
 "cells": [
  {
   "cell_type": "markdown",
   "id": "7862064b-c43b-4215-9626-a5ef710420fb",
   "metadata": {},
   "source": [
    "# Wine quality prediction\n",
    "\n",
    "This notebook builds a model to predict the quality of wine using the model [sklearn.linear_model.ElasticNet](http://scikit-learn.org/stable/modules/generated/sklearn.linear_model.ElasticNet.html) and [dataset](http://archive.ics.uci.edu/ml/datasets/Wine+Quality).\n"
   ]
  },
  {
   "cell_type": "code",
   "execution_count": null,
   "id": "e64014b0-23dc-4e7e-87e8-3a5c41d79e67",
   "metadata": {},
   "outputs": [],
   "source": [
    "import warnings\n",
    "warnings.filterwarnings(\"ignore\")"
   ]
  },
  {
   "cell_type": "code",
   "execution_count": null,
   "id": "c62a5cb9-e0f5-4f53-b5ea-609c613d514b",
   "metadata": {},
   "outputs": [],
   "source": [
    "PASSWORD = \"\" # use your password"
   ]
  },
  {
   "cell_type": "code",
   "execution_count": null,
   "id": "d130431b-f179-45f1-b6ab-6fde684eeb54",
   "metadata": {},
   "outputs": [],
   "source": [
    "%kubeRefresh --pwd $PASSWORD"
   ]
  },
  {
   "cell_type": "code",
   "execution_count": null,
   "id": "40c69032-2407-4a03-8c85-0dcbad0de842",
   "metadata": {},
   "outputs": [],
   "source": [
    "# This magic sets the environmental variables required for mlflow in backend.\n",
    "%loadMlflow"
   ]
  },
  {
   "cell_type": "code",
   "execution_count": null,
   "id": "ac68d1a7-8bd4-405a-8e5e-7e31153ebe23",
   "metadata": {},
   "outputs": [],
   "source": [
    "# Magic function '%Setexp' replaces the two lines below.\n",
    "#mlflow.set_experiment('winequality_experiment')\n",
    "#mlflow.set_tag('mlflow.user','chris')\n",
    "%Setexp --name winequality_experiment"
   ]
  },
  {
   "cell_type": "code",
   "execution_count": null,
   "id": "77d46f4e-4ab5-4a88-88fe-83e3fb5909e4",
   "metadata": {},
   "outputs": [],
   "source": [
    "import os\n",
    "import warnings\n",
    "import sys\n",
    "\n",
    "import pandas as pd\n",
    "import numpy as np\n",
    "from sklearn.metrics import mean_squared_error, mean_absolute_error, r2_score\n",
    "from sklearn.model_selection import train_test_split\n",
    "from sklearn.linear_model import ElasticNet\n",
    "\n",
    "import mlflow\n",
    "    \n",
    "import mlflow.sklearn\n",
    "from mlflow import log_metric, log_param, log_artifact\n",
    "import time\n",
    "\n"
   ]
  },
  {
   "cell_type": "code",
   "execution_count": null,
   "id": "6b1dbb7a-9def-4d35-8ac2-fccbaa69275e",
   "metadata": {},
   "outputs": [],
   "source": [
    "# Wine Quality Sample\n",
    "\n",
    "homedir = !echo $HOME  # get user home directory for data\n",
    "homedir = homedir[0]\n",
    "\n",
    "def train(in_alpha, in_l1_ratio):\n",
    "\n",
    "\n",
    "    def eval_metrics(actual, pred):\n",
    "        rmse = np.sqrt(mean_squared_error(actual, pred))\n",
    "        mae = mean_absolute_error(actual, pred)\n",
    "        r2 = r2_score(actual, pred)\n",
    "        return rmse, mae, r2\n",
    "\n",
    "\n",
    "    warnings.filterwarnings(\"ignore\")\n",
    "    np.random.seed(40)\n",
    "     \n",
    "    # Read training data from local directory\\\n",
    "    data_path = homedir + \"/examples/mlflow/wine-quality.csv\"\n",
    "\n",
    "    data = pd.read_csv(data_path)\n",
    "    \n",
    "\n",
    "    # Split the data into training and test sets. (0.75, 0.25) split.\n",
    "    train, test = train_test_split(data)\n",
    "\n",
    "    # The predicted column is \"quality\" which is a scalar from [3, 9]\n",
    "    train_x = train.drop([\"quality\"], axis=1)\n",
    "    test_x = test.drop([\"quality\"], axis=1)\n",
    "    train_y = train[[\"quality\"]]\n",
    "    test_y = test[[\"quality\"]]\n",
    "\n",
    "    # Set default values if no alpha is provided\n",
    "    if float(in_alpha) is None:\n",
    "        alpha = 0.5\n",
    "    else:\n",
    "        alpha = float(in_alpha)\n",
    "\n",
    "    # Set default values if no l1_ratio is provided\n",
    "    if float(in_l1_ratio) is None:\n",
    "        l1_ratio = 0.5\n",
    "    else:\n",
    "        l1_ratio = float(in_l1_ratio)\n",
    "  \n",
    "    \n",
    "    # Execute ElasticNet\n",
    "    lr = ElasticNet(alpha=alpha, l1_ratio=l1_ratio, random_state=42)\n",
    "    lr.fit(train_x, train_y)\n",
    "\n",
    "    # Evaluate Metrics\n",
    "    predicted_qualities = lr.predict(test_x)\n",
    "    (rmse, mae, r2) = eval_metrics(test_y, predicted_qualities)\n",
    "\n",
    "    # Print out metrics\n",
    "    print(\"Elasticnet model (alpha=%f, l1_ratio=%f):\" % (alpha, l1_ratio))\n",
    "    print(\"  RMSE: %s\" % rmse) # root mean square error\n",
    "    print(\"  MAE: %s\" % mae)   # mean absolute error\n",
    "    print(\"  R2: %s\" % r2)\n",
    "\n",
    "    # Log parameter, metrics, and model to MLflow\n",
    "    mlflow.log_param(\"alpha\", alpha)\n",
    "    mlflow.log_param(\"l1_ratio\", l1_ratio)\n",
    "    mlflow.log_metric(\"rmse\", rmse)\n",
    "    mlflow.log_metric(\"r2\", r2)\n",
    "    mlflow.log_metric(\"mae\", mae)\n",
    "\n",
    "    mlflow.sklearn.log_model(lr, \"model\")\n",
    "    \n",
    "    mlflow.end_run()"
   ]
  },
  {
   "cell_type": "markdown",
   "id": "94a29b05-4b0e-4854-8517-53075247026e",
   "metadata": {},
   "source": [
    "## Train and track models \n",
    "Running different hyperparameter combinations. Result details can be accessed in the MLFlow tracking UI."
   ]
  },
  {
   "cell_type": "code",
   "execution_count": null,
   "id": "4ead1dfd-d755-44be-bb0b-430bcb45185a",
   "metadata": {},
   "outputs": [],
   "source": [
    "train(0.5, 0.5)"
   ]
  },
  {
   "cell_type": "code",
   "execution_count": null,
   "id": "cae72e94-f5ca-4ad0-ba17-363171e3f3af",
   "metadata": {},
   "outputs": [],
   "source": [
    "train(0.2, 0.2)"
   ]
  },
  {
   "cell_type": "code",
   "execution_count": null,
   "id": "6c0620f0-35b7-44b0-b8dd-e801b19b9dca",
   "metadata": {},
   "outputs": [],
   "source": [
    "train(0.1, 0.1)"
   ]
  }
 ],
 "metadata": {
  "kernelspec": {
   "display_name": "Python 3",
   "language": "python",
   "name": "python3"
  },
  "language_info": {
   "codemirror_mode": {
    "name": "ipython",
    "version": 3
   },
   "file_extension": ".py",
   "mimetype": "text/x-python",
   "name": "python",
   "nbconvert_exporter": "python",
   "pygments_lexer": "ipython3",
   "version": "3.7.3"
  }
 },
 "nbformat": 4,
 "nbformat_minor": 5
}
